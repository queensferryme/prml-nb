{
 "cells": [
  {
   "cell_type": "markdown",
   "id": "outer-boxing",
   "metadata": {},
   "source": [
    "# Proof\n",
    "\n",
    "For univariate Gaussian distribution, we have\n",
    "\n",
    "$\\dfrac{\\partial\\mathcal{N}(x\\vert\\mu,\\sigma^2)}{\\partial x}=\\dfrac{x-\\mu}{\\sigma^2}\\mathcal{N}(x\\vert\\mu,\\sigma^2)=0\\Rightarrow x=\\mu$.\n",
    "\n",
    "For multivariate Gaussian distribution, w ehave\n",
    "\n",
    "$\n",
    "\\dfrac{\\partial\\mathcal{N}(\\mathbf{x}\\vert\\mathbf{\\mu},\\mathbf{\\Sigma})}{\\partial\\mathbf{x}}\n",
    "=\\dfrac{1}{2}\\left[\\mathbf{\\Sigma}^{-1}+(\\mathbf{\\Sigma}^{-1})^T\\right](\\mathbf{x}-\\mathbf{\\mu})\\mathcal{N}(\\mathbf{x}\\vert\\mathbf{\\mu},\\mathbf{\\Sigma})\n",
    "=0\\Rightarrow\\mathbf{x}=\\mathbf{\\mu}$."
   ]
  }
 ],
 "metadata": {
  "kernelspec": {
   "display_name": "Python 3",
   "language": "python",
   "name": "python3"
  },
  "language_info": {
   "codemirror_mode": {
    "name": "ipython",
    "version": 3
   },
   "file_extension": ".py",
   "mimetype": "text/x-python",
   "name": "python",
   "nbconvert_exporter": "python",
   "pygments_lexer": "ipython3",
   "version": "3.7.9"
  }
 },
 "nbformat": 4,
 "nbformat_minor": 5
}
