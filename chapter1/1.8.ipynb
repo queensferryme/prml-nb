{
 "cells": [
  {
   "cell_type": "markdown",
   "id": "bulgarian-course",
   "metadata": {},
   "source": [
    "# Proof $(1.49)$\n",
    "\n",
    "$\n",
    "\\begin{align*}\n",
    "\\mathrm{E}(x)&=\\int_{-\\infty}^{+\\infty}\\mathcal{N}(x\\vert\\mu,\\sigma^2)xdx\\\\\n",
    "&=\\int_{-\\infty}^{+\\infty}\\dfrac{1}{(2\\pi\\sigma^2)^{1/2}}\\exp{\\left[-\\dfrac{1}{2\\sigma^2}(x-\\mu)^2\\right]}xdx\\\\\n",
    "&=\\int_{-\\infty}^{+\\infty}(y+\\mu)\\dfrac{1}{(2\\pi\\sigma^2)^{1/2}}\\exp{\\left(-\\dfrac{y^2}{2\\sigma^2}\\right)}dy\\\\\n",
    "&=\\mu\\int_{-\\infty}^{+\\infty}\\dfrac{1}{(2\\pi\\sigma^2)^{1/2}}\\exp{\\left(-\\dfrac{y^2}{2\\sigma^2}\\right)}dy+\\int_{-\\infty}^{+\\infty}y\\dfrac{1}{(2\\pi\\sigma^2)^{1/2}}\\exp{\\left(-\\dfrac{y^2}{2\\sigma^2}\\right)}dy\\\\\n",
    "&=\\mu+\\dfrac{1}{(2\\pi\\sigma^2)^{1/2}}\\int_{-\\infty}^{+\\infty}y\\exp{\\left(-\\dfrac{y^2}{2\\sigma^2}\\right)}dy\n",
    "\\end{align*}\n",
    "$\n",
    "\n",
    "And obviously, $y\\exp{\\left(-\\dfrac{y^2}{2\\sigma^2}\\right)}$ is an odd function whose integral over $(-\\infty, +\\infty)$ equals zero. Therefore $\\mathrm{E}(x)=\\mu$."
   ]
  },
  {
   "cell_type": "markdown",
   "id": "laughing-carnival",
   "metadata": {},
   "source": [
    "# Proof $(1.50)$\n",
    "\n",
    "We need to differentiate both sides of $\\displaystyle\\int_{-\\infty}^{+\\infty}\\mathcal{N}(x\\vert\\mu,\\sigma^2)dx=1$ w.r.t $\\sigma^2$. The right hand side (RHS) will be zero, but the LHS is a bot more complex.\n",
    "\n",
    "Note that the LHS is an integral. The [Leibniz Integral Rule](https://en.wikipedia.org/wiki/Leibniz_integral_rule) for differentiating under the integral sign indicates that\n",
    "$\\displaystyle\n",
    "\\dfrac{\\partial\\int_{-\\infty}^{+\\infty}\\mathcal{N}(x\\vert\\mu,\\sigma^2)dx}{\\partial\\sigma^2}\n",
    "=\\int_{-\\infty}^{+\\infty}\\dfrac{\\partial\\mathcal{N}(x\\vert\\mu,\\sigma^2)}{\\partial\\sigma^2}dx\n",
    "$\n",
    "\n",
    "Now consider $\\dfrac{\\partial\\mathcal{N}(x\\vert\\mu,\\sigma^2)}{\\partial\\sigma^2}$. Here $\\mathcal{N}(x\\vert\\mu,\\sigma^2)=f(\\sigma^2)g(\\sigma^2)$, where $f(\\sigma^2)=\\dfrac{1}{(2\\pi\\sigma^2)^{1/2}}$ and $g(\\sigma^2)=\\exp{\\left[-\\dfrac{1}{2\\sigma^2}(x-\\mu)^2\\right]}$.\n",
    "\n",
    "Therefore, we have\n",
    "\n",
    "$\n",
    "\\begin{align*}\n",
    "\\dfrac{\\partial\\mathcal{N}(x\\vert\\mu,\\sigma^2)}{\\partial\\sigma^2}&=f^{'}g+fg^{'}\\\\\n",
    "&=\\dfrac{1}{-2\\sigma^2(2\\pi\\sigma^2)^{1/2}}g(\\sigma^2)+f(\\sigma^2)\\exp{\\left[-\\dfrac{1}{2\\sigma^2}(x-\\mu)^2\\right]}\\dfrac{(x-\\mu)^2}{2\\sigma^4}\\\\\n",
    "&=\\dfrac{1}{-2\\sigma^2}f(\\sigma^2)g(\\sigma^2)+\\dfrac{(x-\\mu)^2}{2\\sigma^4}f(\\sigma^2)g(\\sigma^2)\\\\\n",
    "&=\\left(\\dfrac{(x-\\mu)^2}{2\\sigma^4}-\\dfrac{1}{2\\sigma^2}\\right)\\mathcal{N}(x\\vert\\mu,\\sigma^2)\n",
    "\\end{align*}\n",
    "$\n",
    "\n",
    "So,\n",
    "$\n",
    "\\displaystyle\n",
    "\\text{LHS}\n",
    "=\\int_{-\\infty}^{+\\infty}\\dfrac{\\partial\\mathcal{N}(x\\vert\\mu,\\sigma^2)}{\\partial\\sigma^2}dx\n",
    "=\\int_{-\\infty}^{+\\infty}\\left(\\dfrac{(x-\\mu)^2}{2\\sigma^4}-\\dfrac{1}{2\\sigma^2}\\right)\\mathcal{N}(x\\vert\\mu,\\sigma^2)dx\n",
    "=0\n",
    "=RHS\n",
    "$\n",
    "\n",
    "$\n",
    "\\displaystyle\\Rightarrow\n",
    "\\int_{-\\infty}^{+\\infty}(x-\\mu)^2\\mathcal{N}(x\\vert\\mu,\\sigma^2)dx=\\int_{-\\infty}^{+\\infty}\\sigma^2\\mathcal{N}(x\\vert\\mu,\\sigma^2)dx=\\sigma^2\n",
    "$\n",
    "\n",
    "$\n",
    "\\displaystyle\\Rightarrow\n",
    "\\int_{-\\infty}^{+\\infty}x^2\\mathcal{N}(x\\vert\\mu,\\sigma^2)dx-2\\mu\\int_{-\\infty}^{+\\infty}x\\mathcal{N}(x\\vert\\mu,\\sigma^2)dx+\\mu^2\\int_{-\\infty}^{+\\infty}\\mathcal{N}(x\\vert\\mu,\\sigma^2)dx=\\sigma^2\n",
    "$\n",
    "\n",
    "$\n",
    "\\displaystyle\\Rightarrow\n",
    "\\mathrm{E}(x^2)-2\\mu\\mathrm{E}(x)+\\mu^2=\\sigma^2\n",
    "$\n",
    "\n",
    "$\n",
    "\\displaystyle\\Rightarrow\n",
    "\\mathrm{E}(x^2)=\\sigma^2+\\mu^2\n",
    "$"
   ]
  },
  {
   "cell_type": "markdown",
   "id": "solid-variable",
   "metadata": {},
   "source": [
    "# Proof $(1.51)$\n",
    "\n",
    "Finally, given $(1.49)$ and $(1.50)$, it is easy to see that $\\mathrm{var}(x)=\\mathrm{E}(x^2)-\\mathrm{E}(x)^2=\\sigma^2+\\mu^2-\\mu^2=\\sigma^2$."
   ]
  }
 ],
 "metadata": {
  "kernelspec": {
   "display_name": "Python 3",
   "language": "python",
   "name": "python3"
  },
  "language_info": {
   "codemirror_mode": {
    "name": "ipython",
    "version": 3
   },
   "file_extension": ".py",
   "mimetype": "text/x-python",
   "name": "python",
   "nbconvert_exporter": "python",
   "pygments_lexer": "ipython3",
   "version": "3.7.9"
  }
 },
 "nbformat": 4,
 "nbformat_minor": 5
}
