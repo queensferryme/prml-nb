{
 "cells": [
  {
   "cell_type": "markdown",
   "id": "opposed-burden",
   "metadata": {},
   "source": [
    "# Proof\n",
    "\n",
    "First we convert the integral to polar coordinates form:\n",
    "\n",
    "$\n",
    "\\begin{align*}\n",
    "I^2&=\\int_{-\\infty}^{+\\infty}\\int_{-\\infty}^{+\\infty}\\exp{\\left(-\\dfrac{1}{2\\sigma^2}x^2-\\dfrac{1}{2\\sigma^2}y^2\\right)}dxdy\\\\\n",
    "&=\\int_{0}^{2\\pi}\\int_{0}^{+\\infty}\\exp{\\left(-\\dfrac{r^2}{2\\sigma^2}\\right)}rdrd\\theta\\\\\n",
    "\\end{align*}\n",
    "$\n",
    "\n",
    "Then we consider the inner integral, where  we substitute $u=r^2$:\n",
    "\n",
    "$\n",
    "\\begin{align*}\n",
    "&\\int_{0}^{+\\infty}\\exp{\\left(-\\dfrac{r^2}{2\\sigma^2}\\right)}rdr\\\\\n",
    "=&\\dfrac{1}{2}\\int_{0}^{+\\infty}\\exp{\\left(-\\dfrac{r^2}{2\\sigma^2}\\right)}dr^2\\\\\n",
    "=&\\dfrac{1}{2}\\int_{0}^{+\\infty}\\exp{\\left(-\\dfrac{u}{2\\sigma^2}\\right)}du\\\\\n",
    "=&\\dfrac{-2\\sigma^2}{2}\\left.\\exp\\left(\\dfrac{u}{-2\\sigma^2}\\right)\\right\\vert_{u=0}^{+\\infty}\\\\\n",
    "=&-\\sigma^2(0-1)=\\sigma^2\n",
    "\\end{align*}\n",
    "$\n",
    "\n",
    "Then, we have $I^2=\\int_{0}^{2\\pi}\\sigma^2d\\theta=2\\pi\\sigma^2$. Therefore $\\displaystyle I=\\int_{-\\infty}^{+\\infty}\\exp{\\left(-\\dfrac{1}{2\\sigma^2}x^2\\right)}dx=(2\\pi\\sigma^2)^{\\frac{1}{2}}$.\n",
    "\n",
    "Finally with this result, we show that the Gaussian distribution $\\mathcal{N}(x\\vert\\mu,\\sigma^2)$ is normalized:\n",
    "\n",
    "$\n",
    "\\begin{align*}\n",
    "&\\int_{-\\infty}^{+\\infty}\\mathcal{N}(x\\vert\\mu,\\sigma^2)dx\\\\\n",
    "=&\\dfrac{1}{(2\\pi\\sigma^2)^{1/2}}\\int_{-\\infty}^{+\\infty}\\exp{\\left[-\\dfrac{1}{2\\sigma^2}(x-\\mu)^2\\right]}dx\\\\\n",
    "=&\\dfrac{1}{(2\\pi\\sigma^2)^{1/2}}\\int_{-\\infty}^{+\\infty}\\exp{\\left(-\\dfrac{y^2}{2\\sigma^2}\\right)}dy\\\\\n",
    "=&\\dfrac{I}{(2\\pi\\sigma^2)^{1/2}}=1\n",
    "\\end{align*}\n",
    "$"
   ]
  }
 ],
 "metadata": {
  "kernelspec": {
   "display_name": "Python 3",
   "language": "python",
   "name": "python3"
  },
  "language_info": {
   "codemirror_mode": {
    "name": "ipython",
    "version": 3
   },
   "file_extension": ".py",
   "mimetype": "text/x-python",
   "name": "python",
   "nbconvert_exporter": "python",
   "pygments_lexer": "ipython3",
   "version": "3.7.9"
  }
 },
 "nbformat": 4,
 "nbformat_minor": 5
}
