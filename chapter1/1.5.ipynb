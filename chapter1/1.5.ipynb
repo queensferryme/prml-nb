{
 "cells": [
  {
   "cell_type": "markdown",
   "id": "scheduled-masters",
   "metadata": {},
   "source": [
    "# Proof\n",
    "\n",
    "$\n",
    "\\begin{align*}\n",
    "\\mathrm{var}[f]\n",
    "&=\\mathrm{E}\\left[(f(x)-\\mathrm{E}[f(x)])^2\\right]&(1.38)\\\\\n",
    "&=\\mathrm{E}\\left[f(x)^2-2f(x)\\mathrm{E}[f(x)]+\\mathrm{E}[f(x)]^2\\right]\\\\\n",
    "&=\\mathrm{E}[f(x)^2]-\\mathrm{E}\\left[2f(x)\\mathrm{E}[f(x)]\\right]+\\mathrm{E}[f(x)]^2\\\\\n",
    "&=\\mathrm{E}[f(x)^2]-2\\mathrm{E}[f(x)]^2+\\mathrm{E}[f(x)]^2\\\\\n",
    "&=\\mathrm{E}[f(x)^2]-\\mathrm{E}[f(x)]^2&(1.39)\n",
    "\\end{align*}\n",
    "$"
   ]
  }
 ],
 "metadata": {
  "kernelspec": {
   "display_name": "Python 3",
   "language": "python",
   "name": "python3"
  },
  "language_info": {
   "codemirror_mode": {
    "name": "ipython",
    "version": 3
   },
   "file_extension": ".py",
   "mimetype": "text/x-python",
   "name": "python",
   "nbconvert_exporter": "python",
   "pygments_lexer": "ipython3",
   "version": "3.7.9"
  }
 },
 "nbformat": 4,
 "nbformat_minor": 5
}
