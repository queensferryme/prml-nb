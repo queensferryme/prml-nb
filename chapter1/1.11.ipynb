{
 "cells": [
  {
   "cell_type": "markdown",
   "id": "false-georgia",
   "metadata": {},
   "source": [
    "# Proof\n",
    "\n",
    "Given the log likelihood function $\\ln p(\\mathbf{x}\\vert\\mu,\\sigma^2)$, we first calculate $\\mu_{ML}$:\n",
    "\n",
    "$\n",
    "\\displaystyle\n",
    "\\begin{align*}\n",
    "&\\dfrac{d\\ln p(\\mathbf{x}\\vert\\mu,\\sigma^2)}{d\\mu}=0\\\\\n",
    "\\Rightarrow\\quad&\\dfrac{1}{\\sigma^2}\\sum_{n=1}^{N}{(x_n-\\mu)}=0\\\\\n",
    "\\Rightarrow\\quad&\\mu_{ML}=\\dfrac{1}{N}\\sum_{n=1}^{N}{(x_n-\\mu)}.\n",
    "\\end{align*}\n",
    "$\n",
    "\n",
    "Then we calculate $\\sigma^2_{ML}$:\n",
    "\n",
    "$\n",
    "\\displaystyle\n",
    "\\begin{align*}\n",
    "&\\dfrac{d\\ln p(\\mathbf{x}\\vert\\mu,\\sigma^2)}{d\\sigma^2}=0\\\\\n",
    "\\Rightarrow\\quad&\\dfrac{1}{2\\sigma^4}\\sum_{n=1}^{N}{(x_n-\\mu)^2}-\\dfrac{N}{2\\sigma^2}=0\\\\\n",
    "\\Rightarrow\\quad&\\sum_{n=1}^{N}{(x_n-\\mu)^2}=N\\sigma^2\\\\\n",
    "\\Rightarrow\\quad&\\sigma^2_{ML}=\\dfrac{1}{N}\\sum_{n=1}^{N}{(x_n-\\mu_{ML})^2}\n",
    "\\end{align*}\n",
    "$"
   ]
  }
 ],
 "metadata": {
  "kernelspec": {
   "display_name": "Python 3",
   "language": "python",
   "name": "python3"
  },
  "language_info": {
   "codemirror_mode": {
    "name": "ipython",
    "version": 3
   },
   "file_extension": ".py",
   "mimetype": "text/x-python",
   "name": "python",
   "nbconvert_exporter": "python",
   "pygments_lexer": "ipython3",
   "version": "3.7.9"
  }
 },
 "nbformat": 4,
 "nbformat_minor": 5
}
