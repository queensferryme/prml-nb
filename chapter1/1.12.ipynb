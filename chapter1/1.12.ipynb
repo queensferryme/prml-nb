{
 "cells": [
  {
   "cell_type": "markdown",
   "id": "weekly-houston",
   "metadata": {},
   "source": [
    "# Proof\n",
    "\n",
    "First we prove that $E(x_{n}x_{m})=\\mu^2+I_{mn}\\sigma^2$.\n",
    "\n",
    "- If $m = n$, $E(x_{n}x_{m})=E(x_n^2)=\\mu^2+\\sigma^2$;\n",
    "- If $m \\neq n$, since $x_m$ and $x_n$ are i.i.d., $E(x_{n}x_{m})=E(x_m)E(x_n)=\\mu^2$.\n",
    "\n",
    "Now we prove that $E(\\mu_{ML})=\\mu$.\n",
    "\n",
    "$\n",
    "\\displaystyle\n",
    "\\begin{align*}\n",
    "E(\\mu_{ML})=&E\\left[\\dfrac{1}{N}\\sum_{n=1}^{N}x_n\\right]\\\\\n",
    "=&\\dfrac{1}{N}E\\left[\\sum_{n=1}^{N}x_n\\right]\\\\\n",
    "=&\\dfrac{1}{N}\\big(E(x_0)+E(x_1)+\\dots+E(x_n)\\big)\\\\\n",
    "=&\\mu\n",
    "\\end{align*}\n",
    "$\n",
    "\n",
    "Finally we prove that $E(\\sigma_{ML}^2)=\\left(\\dfrac{N-1}{N}\\right)\\sigma^2$.\n",
    "\n",
    "$\n",
    "\\displaystyle\n",
    "\\begin{align*}\n",
    "E(\\sigma_{ML}^2)=&E\\left[\\dfrac{1}{N}\\sum_{n=1}^{N}(x_n-\\mu_{ML})^2\\right]\\\\\n",
    "=&\\dfrac{1}{N}E\\left[\\sum_{n=1}^{N}(x_n^2+2x_n\\mu_{ML}+\\mu_{ML}^2)\\right]\\\\\n",
    "=&\\dfrac{1}{N}E\\left[\\sum_{n=1}^N x_n^2\\right]-\\dfrac{2}{N}E\\left[\\sum_{n=1}^N x_n\\mu_{ML}\\right]+\\dfrac{1}{N}E\\left[\\sum_{n=1}^N\\mu_{ML}^2\\right]\\\\\n",
    "=&\\mu^2+\\sigma^2-\\dfrac{2}{N}E\\left[\\mu_{ML}\\sum_{n=1}^N x_n\\right]+E\\left[\\mu_{ML}^2\\right]\\\\\n",
    "=&\\mu^2+\\sigma^2-\\dfrac{2}{N}E\\left[\\left(\\dfrac{1}{N}\\sum_{n=1}^N x_n\\right)\\left(\\sum_{n=1}^N x_n\\right)\\right]+E\\left[\\left(\\dfrac{1}{N}\\sum_{n=1}^N x_n^2\\right)^2\\right]\\\\\n",
    "=&\\mu^2+\\sigma^2-\\dfrac{2}{N^2}E\\left[\\left(\\sum_{n=1}^N x_n\\right)^2\\right]+\\dfrac{1}{N^2}E\\left[\\left(\\sum_{n=1}^N x_n\\right)^2\\right]\\\\\n",
    "=&\\mu^2+\\sigma^2-\\dfrac{1}{N^2}E\\left[\\left(\\sum_{n=1}^N x_n\\right)^2\\right]\n",
    "\\end{align*}\n",
    "$\n",
    "\n",
    "According to $E(x_{n}x_{m})=\\mu^2+I_{mn}\\sigma^2$, we have $\\displaystyle E\\left[\\left(\\sum_{n=1}^N x_n\\right)^2\\right]=N(N\\mu^2+\\sigma^2)$. Therefore, $E(\\sigma_{ML}^2)=\\left(\\dfrac{N-1}{N}\\right)\\sigma^2$"
   ]
  }
 ],
 "metadata": {
  "kernelspec": {
   "display_name": "Python 3",
   "language": "python",
   "name": "python3"
  },
  "language_info": {
   "codemirror_mode": {
    "name": "ipython",
    "version": 3
   },
   "file_extension": ".py",
   "mimetype": "text/x-python",
   "name": "python",
   "nbconvert_exporter": "python",
   "pygments_lexer": "ipython3",
   "version": "3.7.9"
  }
 },
 "nbformat": 4,
 "nbformat_minor": 5
}
