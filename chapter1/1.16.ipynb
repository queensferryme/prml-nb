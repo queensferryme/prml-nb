{
 "cells": [
  {
   "cell_type": "markdown",
   "id": "heated-population",
   "metadata": {},
   "source": [
    "# Proof\n",
    "\n",
    "If you are familiar with [Combinatorics](https://en.wikipedia.org/wiki/Combination), you will find that:\n",
    "\n",
    "$\\displaystyle n(D,M)=\\dfrac{(D+M-1)!}{(D-1)!M!}=\\binom{D+M-1}{D-1}=\\left(\\!\\!{\\binom{D}{M}}\\!\\!\\right)$.\n",
    "\n",
    "Also note that there is a helpful recusion relation for every $\\displaystyle\\binom{n}{k}$ such that:\n",
    "\n",
    "$\n",
    "\\displaystyle\n",
    "\\begin{align*}\n",
    "\\binom{n}{k}\n",
    "&=\\binom{n-1}{k-1}+\\binom{n-1}{k}\\\\\n",
    "&=\\binom{n-1}{k-1}+\\binom{n-2}{k-1}+\\binom{n-2}{k}\\\\\n",
    "&=\\binom{n-1}{k-1}+\\binom{n-2}{k-1}+\\binom{n-3}{k-1}+\\binom{n-3}{k}\\\\\n",
    "&=\\binom{n-1}{k-1}+\\binom{n-2}{k-1}+\\binom{n-3}{k-1}+\\dots+\\binom{k-1}{k-1}\\\\\n",
    "&=\\sum_{i=k-1}^{n-1}\\binom{i}{k-1}.\n",
    "\\end{align*}\n",
    "$\n",
    "\n",
    "Hence, $\\displaystyle\\sum_{m=0}^{M}n(D,m)=\\sum_{m=0}^{M}\\binom{D+m-1}{D-1}=\\sum_{i=D-1}^{D+M-1}\\binom{i}{D-1}=\\binom{D+M}{D}=\\dfrac{(D+M)!}{D!M!}=N(D,M)$.\n",
    "\n",
    "Now we show that when $D\\gg M$, $N(D,M)$ grows like $D^M$.\n",
    "\n",
    "$\n",
    "\\displaystyle\n",
    "\\begin{align*}\n",
    "N(D,M)\n",
    "&=\\dfrac{(D+M)!}{D!M!}\\\\\n",
    "&\\approx\\dfrac{(D+M)^{D+M}e^{-(D+M)}}{D^De^{-D}M^Me^{-M}}\\\\\n",
    "&=\\dfrac{(D+M)^{D+M}}{D^DM^M}\\\\\n",
    "&=\\dfrac{1}{M^M}\\left(1+\\dfrac{M}{D}\\right)^D(D+M)^M\\\\\n",
    "&=\\dfrac{1}{M^M}\\left[\\left(1+\\dfrac{M}{D}\\right)^{\\frac{D}{M}}\\right]^M(D+M)^M\\\\\n",
    "&=\\left(\\dfrac{e}{M}\\right)^M(1+\\dfrac{M}{D})^MD^M\\\\\n",
    "&\\approx\\left(\\dfrac{e}{M}\\right)^MD^M\\\\\n",
    "\\end{align*}\n",
    "$\n",
    "\n",
    "As $D\\gg M$, we consider $\\left(\\dfrac{e}{M}\\right)^M$ trivial compared to $D^M$. Thus we say that when $D\\gg M$, $N(D,M)$ grows like $D^M$.\n",
    "\n",
    "Also because $D$ and $M$ are symmetric w.r.t. $N(D,M)$, it is obvious that when $M\\gg D$, $N(D,M)$ grows like $M^D$.\n",
    "\n",
    "Finally, $\\displaystyle N(10,3)=\\binom{13}{3}=286$, $\\displaystyle N(100,3)=\\binom{103}{3}=176851$."
   ]
  }
 ],
 "metadata": {
  "kernelspec": {
   "display_name": "Python 3",
   "language": "python",
   "name": "python3"
  },
  "language_info": {
   "codemirror_mode": {
    "name": "ipython",
    "version": 3
   },
   "file_extension": ".py",
   "mimetype": "text/x-python",
   "name": "python",
   "nbconvert_exporter": "python",
   "pygments_lexer": "ipython3",
   "version": "3.7.9"
  }
 },
 "nbformat": 4,
 "nbformat_minor": 5
}
