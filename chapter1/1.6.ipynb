{
 "cells": [
  {
   "cell_type": "markdown",
   "id": "weekly-craft",
   "metadata": {},
   "source": [
    "# Proof\n",
    "\n",
    "The definition of independence indicates that $p(x,y)=p(x)p(y)$, hence\n",
    "\n",
    "$\n",
    "\\begin{align*}\n",
    "\\mathrm{E}(xy)\n",
    "&=\\iint{xyp(x,y)dxdy}\\\\\n",
    "&=\\iint{xp(x)yp(y)dxdy}\\\\\n",
    "&=(\\int{xp(x)dx})(\\int{yp(y)dy})\\\\\n",
    "&=\\mathrm{E}(x)\\mathrm{E}(y)\n",
    "\\end{align*}\n",
    "$\n",
    "\n",
    "So, when $x$ and $y$ are independent, we have $\\mathrm{cov}[x,y]=\\mathrm{E}(xy)-\\mathrm{E}(x)\\mathrm{E}(y)=0$."
   ]
  }
 ],
 "metadata": {
  "kernelspec": {
   "display_name": "Python 3",
   "language": "python",
   "name": "python3"
  },
  "language_info": {
   "codemirror_mode": {
    "name": "ipython",
    "version": 3
   },
   "file_extension": ".py",
   "mimetype": "text/x-python",
   "name": "python",
   "nbconvert_exporter": "python",
   "pygments_lexer": "ipython3",
   "version": "3.7.9"
  }
 },
 "nbformat": 4,
 "nbformat_minor": 5
}
