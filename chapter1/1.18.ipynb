{
 "cells": [
  {
   "cell_type": "markdown",
   "id": "challenging-orbit",
   "metadata": {},
   "source": [
    "# Proof\n",
    "\n",
    "As $(1.126)$ indicates, $\\displaystyle\\int_{-\\infty}^{+\\infty}\\exp{\\left(-\\dfrac{x^2}{2\\sigma^2}\\right)}dx=(2\\pi\\sigma^2)^{\\frac{1}{2}}$.\n",
    "\n",
    "Hence, the left-hand side (LHS) of $1.142$ equals to $\\pi^{D/2}$.\n",
    "\n",
    "Now let's consider the RHS of $1.142$:\n",
    "\n",
    "$\n",
    "\\displaystyle\n",
    "\\begin{align*}\n",
    "&S_D\\int_0^{+\\infty}e^{-r^2}r^{D-1}dr\\quad(u=r^2)\\\\\n",
    "=&\\dfrac{S_D}{2}\\int_0^{+\\infty}e^{-u}u^{\\frac{D}{2}-1}du\\\\\n",
    "=&\\dfrac{S_D}{2}\\Gamma\\left(\\dfrac{D}{2}\\right).\n",
    "\\end{align*}\n",
    "$\n",
    "\n",
    "So, from $\\pi^{D/2}=\\dfrac{S_D}{2}\\Gamma\\left(\\dfrac{D}{2}\\right)$ we can deduce that $S_D=\\dfrac{2\\pi^{D/2}}{\\Gamma(\\frac{D}{2})}$.\n",
    "\n",
    "Now, for $V_D$ we integrate $S_Dr^{D-1}$ w.r.t. radius $r$ from $0$ to $1$. Note that here $S_Dr^{D-1}$ stands for the the surface area of a sphere with radius $r$ for any dimension $D$.\n",
    "\n",
    "$\\displaystyle V_D=\\int_0^1{S_Dr^{D-1}dr}=\\dfrac{S_D}{D}\\left.r^D\\right|_0^1=\\dfrac{S_D}{D}$\n",
    "\n",
    "Finally, we can calculate that\n",
    "- for $D=2, S_2=2\\pi, V_2=\\pi$;\n",
    "- for $D=3, S_3=4\\pi, V_2=\\dfrac{4}{3}\\pi$."
   ]
  }
 ],
 "metadata": {
  "kernelspec": {
   "display_name": "Python 3",
   "language": "python",
   "name": "python3"
  },
  "language_info": {
   "codemirror_mode": {
    "name": "ipython",
    "version": 3
   },
   "file_extension": ".py",
   "mimetype": "text/x-python",
   "name": "python",
   "nbconvert_exporter": "python",
   "pygments_lexer": "ipython3",
   "version": "3.7.9"
  }
 },
 "nbformat": 4,
 "nbformat_minor": 5
}
