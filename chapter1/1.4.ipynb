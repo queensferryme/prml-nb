{
 "cells": [
  {
   "cell_type": "markdown",
   "id": "weird-brand",
   "metadata": {},
   "source": [
    "# Proof\n",
    "\n",
    "First, we calculate the derivative of $p_y(y)$ as follow:\n",
    "\n",
    "$\n",
    "\\begin{align*}\n",
    "p_y^{'}(y)&=\\big(p_x(g(y))\\big)^{'}\\lvert g^{'}(y)\\rvert+p_x(g(y))\\lvert g^{'}(y)\\rvert^{'}\\\\\n",
    "&=p_x^{'}(g(y))g^{'}(y)\\lvert g^{'}(y)\\rvert+p_x(g(y))\\lvert g^{'}(y)\\rvert^{'}\n",
    "\\end{align*}\n",
    "$\n",
    "\n",
    "Now, suppose $\\hat x=g(\\hat y)$, which leads to \n",
    "\n",
    "$\n",
    "\\begin{align*}\n",
    "p_y^{'}(\\hat y)&=p_x^{'}(g(\\hat y))g^{'}(\\hat y)\\lvert g^{'}(\\hat y)\\rvert+p_x(g(\\hat y))\\lvert g^{'}(\\hat y)\\rvert^{'}\\\\\n",
    "&=p_x^{'}(\\hat x)g^{'}(\\hat y)\\lvert g^{'}(\\hat y)\\rvert+p_x(\\hat x)\\lvert g^{'}(\\hat y)\\rvert^{'}\\\\\n",
    "\\end{align*}\n",
    "$\n",
    "\n",
    "Since $p_x^{'}(\\hat x)=0,p_y^{'}(\\hat y)=0$, we can easily deduce that $p_x(\\hat x)\\lvert g^{'}(\\hat y)\\rvert^{'}$ should always equal to zero.\n",
    "\n",
    "**However, this identity is unlikely to be established**, which in turn disproves our premise: $\\hat x=g(\\hat y)$. For example, when $p_x(x)=2x,\\ x\\in[0,1]$ and $x=sin(y)$, it is obvious that $p_x(\\hat x)\\lvert g^{'}(\\hat y)\\rvert^{'}\\neq0$.\n",
    "\n",
    "When $x=g(y)$ is a linear transformation like $x=ay+b$, we have $\\lvert g^{'}(\\hat y)\\rvert^{'}=\\lvert a\\rvert^{'}=0$, and thus $p_x(\\hat x)\\lvert g^{'}(\\hat y)\\rvert^{'}\\equiv0$. So we validate that in the case of a linear transformation, the location of the maximum transforms in the same way as the variable itself.\n",
    "\n",
    "Read these two answers ([link1](https://math.stackexchange.com/a/3749209), [link2](https://math.stackexchange.com/a/3569119)) on Math StackExchange for further understanding on the **Jacobian factor**."
   ]
  }
 ],
 "metadata": {
  "kernelspec": {
   "display_name": "Python 3",
   "language": "python",
   "name": "python3"
  },
  "language_info": {
   "codemirror_mode": {
    "name": "ipython",
    "version": 3
   },
   "file_extension": ".py",
   "mimetype": "text/x-python",
   "name": "python",
   "nbconvert_exporter": "python",
   "pygments_lexer": "ipython3",
   "version": "3.7.9"
  }
 },
 "nbformat": 4,
 "nbformat_minor": 5
}
